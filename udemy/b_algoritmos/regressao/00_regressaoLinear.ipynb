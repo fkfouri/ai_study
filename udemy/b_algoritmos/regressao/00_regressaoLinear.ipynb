{
 "cells": [
  {
   "cell_type": "markdown",
   "metadata": {},
   "source": [
    "# Regressao de linear Simples\n",
    "\n",
    "Usando somente o numpy para calcular a inclinacao e o intercepto.\n"
   ]
  },
  {
   "cell_type": "code",
   "execution_count": 1,
   "metadata": {},
   "outputs": [],
   "source": [
    "import numpy as np"
   ]
  },
  {
   "cell_type": "code",
   "execution_count": 2,
   "metadata": {},
   "outputs": [],
   "source": [
    "class LinearRegression:\n",
    "    def __init__(self, x, y):\n",
    "        self.x = x\n",
    "        self.y = y\n",
    "\n",
    "        self.__correlation_coefficient = self.__correlacao()\n",
    "        self.__inclination = self.__inclinacao()\n",
    "        self.__intercept = self.__interceptacao()\n",
    "\n",
    "    def __correlacao(self):\n",
    "        covariacao = np.cov(self.x, self.y, bias=True)[0][1]\n",
    "        variancia_x = np.var(self.x)\n",
    "        variancia_y = np.var(self.y)\n",
    "        return covariacao / np.sqrt(variancia_x * variancia_y)\n",
    "\n",
    "    def __inclinacao(self):\n",
    "        stdx = np.std(self.x)\n",
    "        stdy = np.std(self.y)\n",
    "\n",
    "        return self.__correlation_coefficient * (stdy / stdx)\n",
    "\n",
    "    def __interceptacao(self):\n",
    "        mediax = np.mean(self.x)\n",
    "        mediay = np.mean(self.y)\n",
    "\n",
    "        return mediay - self.__inclination * mediax\n",
    "    \n",
    "    def predict(self, valor):\n",
    "        return self.__intercept + self.__inclination * valor\n",
    "\n"
   ]
  },
  {
   "cell_type": "code",
   "execution_count": 3,
   "metadata": {},
   "outputs": [
    {
     "name": "stdout",
     "output_type": "stream",
     "text": [
      "12.0\n",
      "30.0\n"
     ]
    }
   ],
   "source": [
    "x = np.array([1, 2, 3, 4, 5])\n",
    "y = np.array([2, 4, 6, 8, 10])\n",
    "\n",
    "lr = LinearRegression(x, y)\n",
    "print(lr.predict(6))\n",
    "print(lr.predict(15))"
   ]
  },
  {
   "cell_type": "code",
   "execution_count": null,
   "metadata": {},
   "outputs": [],
   "source": []
  }
 ],
 "metadata": {
  "kernelspec": {
   "display_name": ".venv",
   "language": "python",
   "name": "python3"
  },
  "language_info": {
   "codemirror_mode": {
    "name": "ipython",
    "version": 3
   },
   "file_extension": ".py",
   "mimetype": "text/x-python",
   "name": "python",
   "nbconvert_exporter": "python",
   "pygments_lexer": "ipython3",
   "version": "3.10.12"
  }
 },
 "nbformat": 4,
 "nbformat_minor": 2
}
